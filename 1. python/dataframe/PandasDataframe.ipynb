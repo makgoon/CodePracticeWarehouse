{
 "cells": [
  {
   "cell_type": "markdown",
   "metadata": {},
   "source": [
    "#자신만의 데이터 프레임 만들기\n",
    "\n",
    "#데이터 프레임 만드는 방법에 대한 예제, 3가지 방법"
   ]
  },
  {
   "cell_type": "code",
   "execution_count": null,
   "metadata": {},
   "outputs": [],
   "source": [
    "import pandas as pd #판다스 임포트, 시동어 pd"
   ]
  },
  {
   "cell_type": "code",
   "execution_count": null,
   "metadata": {},
   "outputs": [],
   "source": [
    "#단순한 변수 설정을 통한 설정방법\n",
    "\n",
    "Idol = ['소미', '도연', '미나', '유정'] \n",
    "Height = ['169', '173', '162', '156']\n",
    "\n",
    "data_df = pd.DataFrame(Idol, columns=['이름'])\n",
    "data_df2 = pd.DataFrame(Height, columns=['키'])\n",
    "\n",
    "final = pd.concat([data_df,data_df2], axis = 1)\n",
    "final"
   ]
  },
  {
   "cell_type": "code",
   "execution_count": null,
   "metadata": {},
   "outputs": [],
   "source": [
    "# zip 명령어 사용 방법\n",
    "\n",
    "list1 = [ 'sm3' , 'sm5' , 'sm6' ]\n",
    "list2 = ['k3', 'k5' , 'k7']\n",
    "\n",
    "pd.DataFrame(zip(list1 , list2)),\n",
    "columns = [\"르노\", \"기아\"]\n",
    "\n",
    "list1Df=pd.DataFrame(list1, columns=[\"삼성\"])\n",
    "list2Df=pd.DataFrame(list2, columns=[\"기아\"])\n",
    "\n",
    "fin = pd.concat([list1Df,list2Df], axis=1)\n",
    "\n",
    "print(fin)"
   ]
  },
  {
   "cell_type": "code",
   "execution_count": null,
   "metadata": {},
   "outputs": [],
   "source": [
    "# 딕셔너리 함수 사용 방법\n",
    "\n",
    "dic ={\"나라\":[\"한국\",\"중국\",\"일본\"],\n",
    "      \"전통의상\":[\"한복\",\"치파오\",\"기모노\"],\n",
    "      \"전통음식\":[\"비빔밥\",\"딤섬\",\"낫토\"]}\n",
    "dataFrame = pd.DataFrame(dic)\n",
    "print(dataFrame)"
   ]
  }
 ],
 "metadata": {
  "kernelspec": {
   "display_name": "Python 3",
   "language": "python",
   "name": "python3"
  },
  "language_info": {
   "codemirror_mode": {
    "name": "ipython",
    "version": 3
   },
   "file_extension": ".py",
   "mimetype": "text/x-python",
   "name": "python",
   "nbconvert_exporter": "python",
   "pygments_lexer": "ipython3",
   "version": "3.7.4"
  }
 },
 "nbformat": 4,
 "nbformat_minor": 4
}
